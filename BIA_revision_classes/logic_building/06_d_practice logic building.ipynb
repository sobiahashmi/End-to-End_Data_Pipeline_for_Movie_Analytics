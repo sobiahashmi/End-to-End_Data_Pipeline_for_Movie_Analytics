{
 "cells": [
  {
   "cell_type": "markdown",
   "id": "329fdc42",
   "metadata": {},
   "source": [
    "- Input: [1, 2, 4, 6, 3, 7, 8]  \n",
    "- Output: 5"
   ]
  },
  {
   "cell_type": "code",
   "execution_count": null,
   "id": "f984b216",
   "metadata": {},
   "outputs": [
    {
     "name": "stdout",
     "output_type": "stream",
     "text": [
      "5\n",
      "9\n"
     ]
    }
   ],
   "source": [
    "num = [1, 2, 4, 6, 3, 7, 8,10,12] \n",
    "\n",
    "def missing_num(num):\n",
    "    for i in range(1,len(num)+2):\n",
    "        if i not in num:\n",
    "            print(i)\n",
    "\n",
    "missing_num(num)"
   ]
  },
  {
   "cell_type": "markdown",
   "id": "74361856",
   "metadata": {},
   "source": [
    "- Input: \"listen\", \"silent\"  \n",
    "- Output: True\n",
    "\n",
    "- Input: \"hello\", \"world\"  \n",
    "- Output: False"
   ]
  },
  {
   "cell_type": "code",
   "execution_count": 22,
   "id": "6829a50b",
   "metadata": {},
   "outputs": [
    {
     "data": {
      "text/plain": [
       "True"
      ]
     },
     "execution_count": 22,
     "metadata": {},
     "output_type": "execute_result"
    }
   ],
   "source": [
    "str = \"listen\"\n",
    "str_anagram = \"silent\"\n",
    "\n",
    "def check_anagram(str):\n",
    " if sorted(str) == sorted(str_anagram):\n",
    "    return True\n",
    " else:\n",
    "   return False\n",
    "check_anagram(str)"
   ]
  },
  {
   "cell_type": "markdown",
   "id": "3818abdf",
   "metadata": {},
   "source": [
    "**Problem:**\n",
    "Write a function that prints numbers from 1 to 50, but:\n",
    "\n",
    "- For multiples of 3, print \"Fizz\" instead of the number.\n",
    "- For multiples of 5, print \"Buzz\" instead of the number.\n",
    "- For numbers which are multiples of both 3 and 5, print \"FizzBuzz\"."
   ]
  },
  {
   "cell_type": "code",
   "execution_count": 24,
   "id": "384f8c91",
   "metadata": {},
   "outputs": [
    {
     "name": "stdout",
     "output_type": "stream",
     "text": [
      "1\n",
      "2\n",
      "Fizz\n",
      "4\n",
      "Buzz\n",
      "Fizz\n",
      "7\n",
      "8\n",
      "Fizz\n",
      "Buzz\n",
      "11\n",
      "Fizz\n",
      "13\n",
      "14\n",
      "Fizz\n",
      "16\n",
      "17\n",
      "Fizz\n",
      "19\n",
      "Buzz\n",
      "Fizz\n",
      "22\n",
      "23\n",
      "Fizz\n",
      "Buzz\n",
      "26\n",
      "Fizz\n",
      "28\n",
      "29\n",
      "Fizz\n",
      "31\n",
      "32\n",
      "Fizz\n",
      "34\n",
      "Buzz\n",
      "Fizz\n",
      "37\n",
      "38\n",
      "Fizz\n",
      "Buzz\n",
      "41\n",
      "Fizz\n",
      "43\n",
      "44\n",
      "Fizz\n",
      "46\n",
      "47\n",
      "Fizz\n",
      "49\n",
      "Buzz\n"
     ]
    }
   ],
   "source": [
    "for i in range(1,51):\n",
    "    if i%3 == 0:\n",
    "        print(\"Fizz\")\n",
    "    elif i%5 == 0:\n",
    "        print(\"Buzz\")\n",
    "    elif i%3 ==0 and i%5 ==0:\n",
    "        print(\"FizzBuzz\")\n",
    "    else:\n",
    "        print(i)"
   ]
  },
  {
   "cell_type": "code",
   "execution_count": null,
   "id": "6a29fdfe",
   "metadata": {},
   "outputs": [
    {
     "data": {
      "text/plain": [
       "'nuf si gninrael enihcaM'"
      ]
     },
     "execution_count": 25,
     "metadata": {},
     "output_type": "execute_result"
    }
   ],
   "source": [
    "input_str = \"Machine learning is fun\"\n",
    "rev_str1 = input_str[::-1]"
   ]
  },
  {
   "cell_type": "code",
   "execution_count": 30,
   "id": "a25bfd40",
   "metadata": {},
   "outputs": [
    {
     "data": {
      "text/plain": [
       "'fun is learning Machine'"
      ]
     },
     "execution_count": 30,
     "metadata": {},
     "output_type": "execute_result"
    }
   ],
   "source": [
    "split_str = input_str.split()\n",
    "rev_str2 = split_str[::-1]\n",
    "\" \".join(rev_str2)"
   ]
  },
  {
   "cell_type": "markdown",
   "id": "0f8105c6",
   "metadata": {},
   "source": [
    "- Write a function that takes a string and returns a dictionary showing how many times each character appears."
   ]
  },
  {
   "cell_type": "code",
   "execution_count": 34,
   "id": "bf907238",
   "metadata": {},
   "outputs": [
    {
     "data": {
      "text/plain": [
       "{'a': 1, 'p': 2, 'l': 1, 'e': 1}"
      ]
     },
     "execution_count": 34,
     "metadata": {},
     "output_type": "execute_result"
    }
   ],
   "source": [
    "a = \"apple\"\n",
    "empty_dict = {}\n",
    "\n",
    "for i in a:\n",
    "    if i not in empty_dict:\n",
    "        empty_dict[i] = 1\n",
    "    else:\n",
    "        empty_dict[i] += 1\n",
    "empty_dict"
   ]
  },
  {
   "cell_type": "markdown",
   "id": "b8b5b7e4",
   "metadata": {},
   "source": [
    "- Write a function that returns True if a given number is prime, otherwise False."
   ]
  },
  {
   "cell_type": "code",
   "execution_count": null,
   "id": "d797ca80",
   "metadata": {},
   "outputs": [],
   "source": [
    "def prime_num(num):\n",
    "    if num > 1:\n",
    "        print(\"Prime Number\")\n",
    "        return True\n",
    "    else:\n",
    "        print(\"Not Prime Number\")\n",
    "        return False"
   ]
  },
  {
   "cell_type": "code",
   "execution_count": 14,
   "id": "598c4ab2",
   "metadata": {},
   "outputs": [
    {
     "name": "stdout",
     "output_type": "stream",
     "text": [
      "[5, 8, 10, 15, 20]\n"
     ]
    },
    {
     "data": {
      "text/plain": [
       "15"
      ]
     },
     "execution_count": 14,
     "metadata": {},
     "output_type": "execute_result"
    }
   ],
   "source": [
    "numbers = [10, 5, 20, 8, 15]\n",
    "\n",
    "a = sorted(set(numbers))\n",
    "print(a)\n",
    "a[-2]"
   ]
  },
  {
   "cell_type": "code",
   "execution_count": 15,
   "id": "65e34f39",
   "metadata": {},
   "outputs": [
    {
     "name": "stdout",
     "output_type": "stream",
     "text": [
      "{'a': 1, 'p': 2, 'l': 1, 'e': 1}\n"
     ]
    }
   ],
   "source": [
    "text = \"apple\"\n",
    "\n",
    "a = {}\n",
    "\n",
    "for i in text:\n",
    "    if i not in a:\n",
    "        a[i] = 1\n",
    "    else:\n",
    "        a[i] += 1\n",
    "print(a)"
   ]
  },
  {
   "cell_type": "code",
   "execution_count": 19,
   "id": "b40a9ef5",
   "metadata": {},
   "outputs": [
    {
     "name": "stdout",
     "output_type": "stream",
     "text": [
      "Palindrome\n"
     ]
    }
   ],
   "source": [
    "num = 124421\n",
    "\n",
    "def check_palindrome(num):\n",
    "    if str(num) == str(num)[::-1]:\n",
    "        print(\"Palindrome\")\n",
    "    else: \n",
    "        print(\"Not Palindrome\")\n",
    "check_palindrome(\"madam\")"
   ]
  },
  {
   "cell_type": "code",
   "execution_count": 25,
   "id": "18098891",
   "metadata": {},
   "outputs": [
    {
     "name": "stdout",
     "output_type": "stream",
     "text": [
      "c\n"
     ]
    }
   ],
   "source": [
    "text = \"aabbcddfe\"\n",
    "a = {}\n",
    "\n",
    "for i in text:\n",
    "    if i not in a:\n",
    "        a[i] = 1\n",
    "    else:\n",
    "        a[i]+=1\n",
    "\n",
    "for j in a:\n",
    "    if a[j] == 1:\n",
    "        print(j)\n",
    "        break\n",
    "\n"
   ]
  },
  {
   "cell_type": "code",
   "execution_count": null,
   "id": "7539cfe2",
   "metadata": {},
   "outputs": [],
   "source": []
  }
 ],
 "metadata": {
  "kernelspec": {
   "display_name": "base",
   "language": "python",
   "name": "python3"
  },
  "language_info": {
   "codemirror_mode": {
    "name": "ipython",
    "version": 3
   },
   "file_extension": ".py",
   "mimetype": "text/x-python",
   "name": "python",
   "nbconvert_exporter": "python",
   "pygments_lexer": "ipython3",
   "version": "3.12.9"
  }
 },
 "nbformat": 4,
 "nbformat_minor": 5
}
