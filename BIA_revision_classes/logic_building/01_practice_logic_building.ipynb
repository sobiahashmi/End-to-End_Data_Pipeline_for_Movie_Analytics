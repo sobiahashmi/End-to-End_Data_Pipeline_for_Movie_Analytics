{
 "cells": [
  {
   "cell_type": "markdown",
   "id": "9e156553",
   "metadata": {},
   "source": [
    "* Write a Python program that takes a sentence as input and reverses each word individually, but keeps the word order same."
   ]
  },
  {
   "cell_type": "code",
   "execution_count": null,
   "id": "40b6189c",
   "metadata": {},
   "outputs": [
    {
     "data": {
      "text/plain": [
       "'fun'"
      ]
     },
     "execution_count": 4,
     "metadata": {},
     "output_type": "execute_result"
    }
   ],
   "source": [
    "a = \"Machine learning is fun\"\n",
    "b = a.split()\n",
    "\" \".join(b[::-1])"
   ]
  },
  {
   "cell_type": "code",
   "execution_count": 8,
   "id": "33054ec8",
   "metadata": {},
   "outputs": [
    {
     "data": {
      "text/plain": [
       "'enihcaM gninrael si nuf'"
      ]
     },
     "execution_count": 8,
     "metadata": {},
     "output_type": "execute_result"
    }
   ],
   "source": [
    "output = \"enihcaM gninrael si nuf\"\n",
    "emp_list = []\n",
    "for i in b:\n",
    "    emp_list.append(i[::-1])\n",
    "\" \".join(emp_list)"
   ]
  },
  {
   "cell_type": "markdown",
   "id": "23cb68f4",
   "metadata": {},
   "source": [
    "* Write a Python program to count the frequency of each character in a string."
   ]
  },
  {
   "cell_type": "code",
   "execution_count": 11,
   "id": "15a26b9b",
   "metadata": {},
   "outputs": [
    {
     "data": {
      "text/plain": [
       "{'a': 1, 'p': 2, 'l': 1, 'e': 1}"
      ]
     },
     "execution_count": 11,
     "metadata": {},
     "output_type": "execute_result"
    }
   ],
   "source": [
    "fruit = \"apple\"\n",
    "emp_dict = {}\n",
    "\n",
    "for i in fruit:\n",
    "    if i not in emp_dict:\n",
    "        emp_dict[i] = 1\n",
    "    else:\n",
    "        emp_dict[i] += 1\n",
    "emp_dict"
   ]
  },
  {
   "cell_type": "markdown",
   "id": "e7133512",
   "metadata": {},
   "source": [
    "* Write a Python program to check whether a number is a palindrome or not."
   ]
  },
  {
   "cell_type": "code",
   "execution_count": 27,
   "id": "d8e924cb",
   "metadata": {},
   "outputs": [
    {
     "data": {
      "text/plain": [
       "False"
      ]
     },
     "execution_count": 27,
     "metadata": {},
     "output_type": "execute_result"
    }
   ],
   "source": [
    "a = 1242243423421\n",
    "\n",
    "def check_palindrome(num):\n",
    "    num_str = str(num)\n",
    "    if num_str == num_str[::-1]:\n",
    "        return True\n",
    "    else:\n",
    "        return False\n",
    "    \n",
    "check_palindrome(a)"
   ]
  },
  {
   "cell_type": "markdown",
   "id": "4aaf9df6",
   "metadata": {},
   "source": [
    "* Write a Python program to find the second largest number in a list."
   ]
  },
  {
   "cell_type": "code",
   "execution_count": 34,
   "id": "b34b5753",
   "metadata": {},
   "outputs": [
    {
     "data": {
      "text/plain": [
       "10"
      ]
     },
     "execution_count": 34,
     "metadata": {},
     "output_type": "execute_result"
    }
   ],
   "source": [
    "a =  [10, 5, 20, 8]\n",
    "remove_dup = set(a)\n",
    "b = sorted(remove_dup)\n",
    "\n",
    "result = b[-2]\n",
    "result"
   ]
  },
  {
   "cell_type": "markdown",
   "id": "c2719caf",
   "metadata": {},
   "source": [
    "* Write a Python program to check if two strings are anagrams of each other."
   ]
  },
  {
   "cell_type": "code",
   "execution_count": 39,
   "id": "e977d143",
   "metadata": {},
   "outputs": [
    {
     "data": {
      "text/plain": [
       "True"
      ]
     },
     "execution_count": 39,
     "metadata": {},
     "output_type": "execute_result"
    }
   ],
   "source": [
    "str1 = \"listen\"\n",
    "str2 = \"silent\"\n",
    "\n",
    "def check_anagram(str1, str2):\n",
    "    if sorted(str1) == sorted(str2):\n",
    "        return True\n",
    "    else:\n",
    "        return False\n",
    "\n",
    "check_anagram(str1,str2)"
   ]
  },
  {
   "cell_type": "code",
   "execution_count": null,
   "id": "cae6559b",
   "metadata": {},
   "outputs": [],
   "source": []
  }
 ],
 "metadata": {
  "kernelspec": {
   "display_name": "base",
   "language": "python",
   "name": "python3"
  },
  "language_info": {
   "codemirror_mode": {
    "name": "ipython",
    "version": 3
   },
   "file_extension": ".py",
   "mimetype": "text/x-python",
   "name": "python",
   "nbconvert_exporter": "python",
   "pygments_lexer": "ipython3",
   "version": "3.12.9"
  }
 },
 "nbformat": 4,
 "nbformat_minor": 5
}
