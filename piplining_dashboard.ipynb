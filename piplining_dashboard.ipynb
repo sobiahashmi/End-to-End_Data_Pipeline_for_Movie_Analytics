{
 "cells": [
  {
   "cell_type": "markdown",
   "id": "afc5ae44",
   "metadata": {},
   "source": [
    "<h1 style=\"font-family: 'poppins'; font-weight: bold; color: Green;\">👨‍💻Author: SOBIA ALAMGIR</h1>\n",
    "\n",
    "[![GitHub](https://img.shields.io/badge/GitHub-Profile-blue?style=for-the-badge&logo=github)](https://github.com/sobiahashmi) \n",
    "[![Kaggle](https://img.shields.io/badge/Kaggle-Profile-blue?style=for-the-badge&logo=kaggle)](https://www.linkedin.com/in/sobia-alamgir-a027b939/) \n",
    "[![LinkedIn](https://img.shields.io/badge/LinkedIn-Profile-blue?style=for-the-badge&logo=linkedin)](https://www.linkedin.com/in/sobia-alamgir-a027b939/)\n",
    "[![Streamlit](https://img.shields.io/badge/Streamlit-Open%20App-FF4B4B?style=for-the-badge&logo=streamlit&logoColor=white)](https://pipelineimdb.streamlit.app/)\n"
   ]
  },
  {
   "cell_type": "markdown",
   "id": "b0b11f61",
   "metadata": {},
   "source": [
    "<a id=\"13\"></a>\n",
    "<h1 style=\"background-color:#435420;font-family:newtimeroman;font-size:300%;text-align:center;border-radius: 15px 50px;color:#FF9900;\">End-to-End Data Pipeline for Movie Analytics</h1>\n",
    "<figcaption style=\"text-align: center;\">\n",
    "    <strong>\n",
    "    </strong>\n",
    "</figcaption>"
   ]
  },
  {
   "cell_type": "markdown",
   "id": "ae488c79",
   "metadata": {},
   "source": [
    "**Task Overview**\n",
    "\n",
    "**Objective:** Build a full data pipeline to analyze IMDB movie data using Python and SQL.\n",
    "\n",
    "**Deliverables:**\n",
    "\n",
    "- Data ingestion (from CSV or API)\n",
    "- Data cleaning (missing values, outlier treatment)\n",
    "- SQL schema design and population (SQLite or PostgreSQL)\n",
    "- Dash or Streamlit dashboard with filters"
   ]
  },
  {
   "cell_type": "markdown",
   "id": "cad1d969",
   "metadata": {},
   "source": [
    "**Table of contents**<a id='toc0_'></a>    \n",
    "  - [Step-01 Load Libraries](#toc1_1_)    \n",
    "  - [Step-02 Load Dataset](#toc1_2_)    \n",
    "  - [Step-03 Data Preprocessing](#toc1_3_)    \n",
    "      - [Information about dataset](#toc1_3_1_1_)    \n",
    "      - [Description](#toc1_3_1_2_)    \n",
    "      - [Let's check Null values](#toc1_3_1_3_)    \n",
    "      - [Let's drop irrelevant columns](#toc1_3_1_4_)    \n",
    "      - [Correlation](#toc1_3_1_5_)    \n",
    "      - [Handle Outliers](#toc1_3_1_6_)    \n",
    "      - [Remove Outliers in df['Rating']](#toc1_3_1_7_)    \n",
    "  - [Step-04 Create Connection and Table](#toc1_4_)    \n",
    "      - [SQL Schema Design](#toc1_4_1_1_)    \n",
    "      - [SQL Schema Population](#toc1_4_1_2_)    \n",
    "\n",
    "<!-- vscode-jupyter-toc-config\n",
    "\tnumbering=false\n",
    "\tanchor=true\n",
    "\tflat=false\n",
    "\tminLevel=1\n",
    "\tmaxLevel=6\n",
    "\t/vscode-jupyter-toc-config -->\n",
    "<!-- THIS CELL WILL BE REPLACED ON TOC UPDATE. DO NOT WRITE YOUR TEXT IN THIS CELL -->"
   ]
  },
  {
   "cell_type": "markdown",
   "metadata": {},
   "source": [
    "## <a id='toc1_1_'></a>[Step-01 Load Libraries](#toc0_)"
   ]
  },
  {
   "cell_type": "code",
   "execution_count": null,
   "id": "f9eb4b7c",
   "metadata": {},
   "outputs": [],
   "source": [
    "import pandas as pd\n",
    "import numpy as np\n",
    "import seaborn as sns\n",
    "import matplotlib.pyplot as plt\n",
    "\n",
    "import sqlite3"
   ]
  },
  {
   "cell_type": "markdown",
   "metadata": {},
   "source": [
    "## <a id='toc1_2_'></a>[Step-02 Load Dataset](#toc0_)"
   ]
  },
  {
   "cell_type": "code",
   "execution_count": null,
   "id": "30d61969",
   "metadata": {},
   "outputs": [
    {
     "data": {
      "text/html": [
       "<div>\n",
       "<style scoped>\n",
       "    .dataframe tbody tr th:only-of-type {\n",
       "        vertical-align: middle;\n",
       "    }\n",
       "\n",
       "    .dataframe tbody tr th {\n",
       "        vertical-align: top;\n",
       "    }\n",
       "\n",
       "    .dataframe thead th {\n",
       "        text-align: right;\n",
       "    }\n",
       "</style>\n",
       "<table border=\"1\" class=\"dataframe\">\n",
       "  <thead>\n",
       "    <tr style=\"text-align: right;\">\n",
       "      <th></th>\n",
       "      <th>MovieID</th>\n",
       "      <th>Title</th>\n",
       "      <th>Genre</th>\n",
       "      <th>ReleaseYear</th>\n",
       "      <th>Rating</th>\n",
       "      <th>Votes</th>\n",
       "      <th>RevenueMillions</th>\n",
       "    </tr>\n",
       "  </thead>\n",
       "  <tbody>\n",
       "    <tr>\n",
       "      <th>0</th>\n",
       "      <td>0</td>\n",
       "      <td>Movie 0</td>\n",
       "      <td>Comedy</td>\n",
       "      <td>2011</td>\n",
       "      <td>6.6</td>\n",
       "      <td>86411</td>\n",
       "      <td>12.23</td>\n",
       "    </tr>\n",
       "    <tr>\n",
       "      <th>1</th>\n",
       "      <td>1</td>\n",
       "      <td>Movie 1</td>\n",
       "      <td>Drama</td>\n",
       "      <td>2014</td>\n",
       "      <td>5.2</td>\n",
       "      <td>3226</td>\n",
       "      <td>9.24</td>\n",
       "    </tr>\n",
       "    <tr>\n",
       "      <th>2</th>\n",
       "      <td>2</td>\n",
       "      <td>Movie 2</td>\n",
       "      <td>Action</td>\n",
       "      <td>2021</td>\n",
       "      <td>5.1</td>\n",
       "      <td>553</td>\n",
       "      <td>54.98</td>\n",
       "    </tr>\n",
       "    <tr>\n",
       "      <th>3</th>\n",
       "      <td>3</td>\n",
       "      <td>Movie 3</td>\n",
       "      <td>Horror</td>\n",
       "      <td>2012</td>\n",
       "      <td>7.5</td>\n",
       "      <td>30604</td>\n",
       "      <td>265.24</td>\n",
       "    </tr>\n",
       "    <tr>\n",
       "      <th>4</th>\n",
       "      <td>4</td>\n",
       "      <td>Movie 4</td>\n",
       "      <td>Drama</td>\n",
       "      <td>2004</td>\n",
       "      <td>6.5</td>\n",
       "      <td>60463</td>\n",
       "      <td>228.71</td>\n",
       "    </tr>\n",
       "  </tbody>\n",
       "</table>\n",
       "</div>"
      ],
      "text/plain": [
       "   MovieID    Title   Genre  ReleaseYear  Rating  Votes  RevenueMillions\n",
       "0        0  Movie 0  Comedy         2011     6.6  86411            12.23\n",
       "1        1  Movie 1   Drama         2014     5.2   3226             9.24\n",
       "2        2  Movie 2  Action         2021     5.1    553            54.98\n",
       "3        3  Movie 3  Horror         2012     7.5  30604           265.24\n",
       "4        4  Movie 4   Drama         2004     6.5  60463           228.71"
      ]
     },
     "metadata": {},
     "output_type": "display_data"
    },
    {
     "name": "stdout",
     "output_type": "stream",
     "text": [
      "Number of Records:  10000\n",
      "Number of Columns:  7\n"
     ]
    }
   ],
   "source": [
    "n = 10000\n",
    "\n",
    "df = pd.DataFrame({\n",
    "    'MovieID': np.arange(n),\n",
    "    'Title': [f'Movie {i}' for i in range(n)],\n",
    "    'Genre': np.random.choice(['Drama', 'Comedy', 'Action', 'Horror'], size=n),\n",
    "    'ReleaseYear': np.random.randint(1980, 2024, size=n),\n",
    "    'Rating': np.round(np.random.normal(loc=6.5, scale=1.5, size=n), 1),\n",
    "    'Votes': np.random.randint(100, 100000, size=n),\n",
    "    'RevenueMillions': np.round(np.random.uniform(1, 300, size=n), 2)\n",
    "})\n",
    "\n",
    "display(df.head())\n",
    "print(\"Number of Records: \", df.shape[0])\n",
    "print(\"Number of Columns: \", df.shape[1])"
   ]
  },
  {
   "cell_type": "markdown",
   "id": "66562fb9",
   "metadata": {},
   "source": [
    "## <a id='toc1_3_'></a>[Step-03 Data Preprocessing](#toc0_)"
   ]
  },
  {
   "cell_type": "markdown",
   "metadata": {},
   "source": [
    "#### <a id='toc1_3_1_1_'></a>[Information about dataset](#toc0_)"
   ]
  },
  {
   "cell_type": "code",
   "execution_count": null,
   "id": "66dc421d",
   "metadata": {},
   "outputs": [
    {
     "name": "stdout",
     "output_type": "stream",
     "text": [
      "<class 'pandas.core.frame.DataFrame'>\n",
      "RangeIndex: 10000 entries, 0 to 9999\n",
      "Data columns (total 7 columns):\n",
      " #   Column           Non-Null Count  Dtype  \n",
      "---  ------           --------------  -----  \n",
      " 0   MovieID          10000 non-null  int32  \n",
      " 1   Title            10000 non-null  object \n",
      " 2   Genre            10000 non-null  object \n",
      " 3   ReleaseYear      10000 non-null  int32  \n",
      " 4   Rating           10000 non-null  float64\n",
      " 5   Votes            10000 non-null  int32  \n",
      " 6   RevenueMillions  10000 non-null  float64\n",
      "dtypes: float64(2), int32(3), object(2)\n",
      "memory usage: 429.8+ KB\n"
     ]
    }
   ],
   "source": [
    "df.info()"
   ]
  },
  {
   "cell_type": "markdown",
   "metadata": {},
   "source": [
    "#### <a id='toc1_3_1_2_'></a>[Description](#toc0_)"
   ]
  },
  {
   "cell_type": "code",
   "execution_count": null,
   "id": "2f59e12b",
   "metadata": {},
   "outputs": [
    {
     "data": {
      "text/html": [
       "<div>\n",
       "<style scoped>\n",
       "    .dataframe tbody tr th:only-of-type {\n",
       "        vertical-align: middle;\n",
       "    }\n",
       "\n",
       "    .dataframe tbody tr th {\n",
       "        vertical-align: top;\n",
       "    }\n",
       "\n",
       "    .dataframe thead th {\n",
       "        text-align: right;\n",
       "    }\n",
       "</style>\n",
       "<table border=\"1\" class=\"dataframe\">\n",
       "  <thead>\n",
       "    <tr style=\"text-align: right;\">\n",
       "      <th></th>\n",
       "      <th>MovieID</th>\n",
       "      <th>ReleaseYear</th>\n",
       "      <th>Rating</th>\n",
       "      <th>Votes</th>\n",
       "      <th>RevenueMillions</th>\n",
       "    </tr>\n",
       "  </thead>\n",
       "  <tbody>\n",
       "    <tr>\n",
       "      <th>count</th>\n",
       "      <td>10000.00000</td>\n",
       "      <td>10000.00000</td>\n",
       "      <td>10000.000000</td>\n",
       "      <td>10000.000000</td>\n",
       "      <td>10000.000000</td>\n",
       "    </tr>\n",
       "    <tr>\n",
       "      <th>mean</th>\n",
       "      <td>4999.50000</td>\n",
       "      <td>2001.45850</td>\n",
       "      <td>6.493650</td>\n",
       "      <td>50194.294700</td>\n",
       "      <td>149.589264</td>\n",
       "    </tr>\n",
       "    <tr>\n",
       "      <th>std</th>\n",
       "      <td>2886.89568</td>\n",
       "      <td>12.67663</td>\n",
       "      <td>1.519348</td>\n",
       "      <td>28685.631106</td>\n",
       "      <td>86.006603</td>\n",
       "    </tr>\n",
       "    <tr>\n",
       "      <th>min</th>\n",
       "      <td>0.00000</td>\n",
       "      <td>1980.00000</td>\n",
       "      <td>0.500000</td>\n",
       "      <td>100.000000</td>\n",
       "      <td>1.010000</td>\n",
       "    </tr>\n",
       "    <tr>\n",
       "      <th>25%</th>\n",
       "      <td>2499.75000</td>\n",
       "      <td>1990.75000</td>\n",
       "      <td>5.500000</td>\n",
       "      <td>25479.750000</td>\n",
       "      <td>75.130000</td>\n",
       "    </tr>\n",
       "    <tr>\n",
       "      <th>50%</th>\n",
       "      <td>4999.50000</td>\n",
       "      <td>2001.00000</td>\n",
       "      <td>6.500000</td>\n",
       "      <td>50239.000000</td>\n",
       "      <td>149.145000</td>\n",
       "    </tr>\n",
       "    <tr>\n",
       "      <th>75%</th>\n",
       "      <td>7499.25000</td>\n",
       "      <td>2012.00000</td>\n",
       "      <td>7.500000</td>\n",
       "      <td>74931.500000</td>\n",
       "      <td>223.425000</td>\n",
       "    </tr>\n",
       "    <tr>\n",
       "      <th>max</th>\n",
       "      <td>9999.00000</td>\n",
       "      <td>2023.00000</td>\n",
       "      <td>12.700000</td>\n",
       "      <td>99984.000000</td>\n",
       "      <td>299.980000</td>\n",
       "    </tr>\n",
       "  </tbody>\n",
       "</table>\n",
       "</div>"
      ],
      "text/plain": [
       "           MovieID  ReleaseYear        Rating         Votes  RevenueMillions\n",
       "count  10000.00000  10000.00000  10000.000000  10000.000000     10000.000000\n",
       "mean    4999.50000   2001.45850      6.493650  50194.294700       149.589264\n",
       "std     2886.89568     12.67663      1.519348  28685.631106        86.006603\n",
       "min        0.00000   1980.00000      0.500000    100.000000         1.010000\n",
       "25%     2499.75000   1990.75000      5.500000  25479.750000        75.130000\n",
       "50%     4999.50000   2001.00000      6.500000  50239.000000       149.145000\n",
       "75%     7499.25000   2012.00000      7.500000  74931.500000       223.425000\n",
       "max     9999.00000   2023.00000     12.700000  99984.000000       299.980000"
      ]
     },
     "execution_count": 4,
     "metadata": {},
     "output_type": "execute_result"
    }
   ],
   "source": [
    "df.describe()"
   ]
  },
  {
   "cell_type": "markdown",
   "metadata": {},
   "source": [
    "#### <a id='toc1_3_1_3_'></a>[Let's check Null values](#toc0_)"
   ]
  },
  {
   "cell_type": "code",
   "execution_count": 5,
   "id": "58d96961",
   "metadata": {},
   "outputs": [
    {
     "data": {
      "text/plain": [
       "MovieID            0\n",
       "Title              0\n",
       "Genre              0\n",
       "ReleaseYear        0\n",
       "Rating             0\n",
       "Votes              0\n",
       "RevenueMillions    0\n",
       "dtype: int64"
      ]
     },
     "execution_count": 5,
     "metadata": {},
     "output_type": "execute_result"
    }
   ],
   "source": [
    "df.isnull().sum()"
   ]
  },
  {
   "cell_type": "code",
   "execution_count": null,
   "id": "e6f06536",
   "metadata": {},
   "outputs": [
    {
     "data": {
      "text/plain": [
       "Index(['MovieID', 'Title', 'Genre', 'ReleaseYear', 'Rating', 'Votes',\n",
       "       'RevenueMillions'],\n",
       "      dtype='object')"
      ]
     },
     "execution_count": 6,
     "metadata": {},
     "output_type": "execute_result"
    }
   ],
   "source": [
    "df.columns"
   ]
  },
  {
   "cell_type": "markdown",
   "metadata": {},
   "source": [
    "#### <a id='toc1_3_1_4_'></a>[Let's drop irrelevant columns](#toc0_)"
   ]
  },
  {
   "cell_type": "code",
   "execution_count": 28,
   "id": "6b921dcf",
   "metadata": {},
   "outputs": [],
   "source": [
    "df.drop(['MovieID'], axis = 1 , inplace = True)"
   ]
  },
  {
   "cell_type": "code",
   "execution_count": null,
   "id": "4fc54bc0",
   "metadata": {},
   "outputs": [
    {
     "data": {
      "text/html": [
       "<div>\n",
       "<style scoped>\n",
       "    .dataframe tbody tr th:only-of-type {\n",
       "        vertical-align: middle;\n",
       "    }\n",
       "\n",
       "    .dataframe tbody tr th {\n",
       "        vertical-align: top;\n",
       "    }\n",
       "\n",
       "    .dataframe thead th {\n",
       "        text-align: right;\n",
       "    }\n",
       "</style>\n",
       "<table border=\"1\" class=\"dataframe\">\n",
       "  <thead>\n",
       "    <tr style=\"text-align: right;\">\n",
       "      <th></th>\n",
       "      <th>Title</th>\n",
       "      <th>Genre</th>\n",
       "      <th>ReleaseYear</th>\n",
       "      <th>Rating</th>\n",
       "      <th>Votes</th>\n",
       "      <th>RevenueMillions</th>\n",
       "    </tr>\n",
       "  </thead>\n",
       "  <tbody>\n",
       "    <tr>\n",
       "      <th>0</th>\n",
       "      <td>Movie 0</td>\n",
       "      <td>Comedy</td>\n",
       "      <td>2011</td>\n",
       "      <td>6.6</td>\n",
       "      <td>86411</td>\n",
       "      <td>12.23</td>\n",
       "    </tr>\n",
       "    <tr>\n",
       "      <th>1</th>\n",
       "      <td>Movie 1</td>\n",
       "      <td>Drama</td>\n",
       "      <td>2014</td>\n",
       "      <td>5.2</td>\n",
       "      <td>3226</td>\n",
       "      <td>9.24</td>\n",
       "    </tr>\n",
       "    <tr>\n",
       "      <th>2</th>\n",
       "      <td>Movie 2</td>\n",
       "      <td>Action</td>\n",
       "      <td>2021</td>\n",
       "      <td>5.1</td>\n",
       "      <td>553</td>\n",
       "      <td>54.98</td>\n",
       "    </tr>\n",
       "    <tr>\n",
       "      <th>3</th>\n",
       "      <td>Movie 3</td>\n",
       "      <td>Horror</td>\n",
       "      <td>2012</td>\n",
       "      <td>7.5</td>\n",
       "      <td>30604</td>\n",
       "      <td>265.24</td>\n",
       "    </tr>\n",
       "    <tr>\n",
       "      <th>4</th>\n",
       "      <td>Movie 4</td>\n",
       "      <td>Drama</td>\n",
       "      <td>2004</td>\n",
       "      <td>6.5</td>\n",
       "      <td>60463</td>\n",
       "      <td>228.71</td>\n",
       "    </tr>\n",
       "  </tbody>\n",
       "</table>\n",
       "</div>"
      ],
      "text/plain": [
       "     Title   Genre  ReleaseYear  Rating  Votes  RevenueMillions\n",
       "0  Movie 0  Comedy         2011     6.6  86411            12.23\n",
       "1  Movie 1   Drama         2014     5.2   3226             9.24\n",
       "2  Movie 2  Action         2021     5.1    553            54.98\n",
       "3  Movie 3  Horror         2012     7.5  30604           265.24\n",
       "4  Movie 4   Drama         2004     6.5  60463           228.71"
      ]
     },
     "execution_count": 29,
     "metadata": {},
     "output_type": "execute_result"
    }
   ],
   "source": [
    "df.head()"
   ]
  },
  {
   "cell_type": "markdown",
   "metadata": {},
   "source": [
    "#### <a id='toc1_3_1_5_'></a>[Correlation](#toc0_)"
   ]
  },
  {
   "cell_type": "code",
   "execution_count": null,
   "id": "a0ee9f81",
   "metadata": {},
   "outputs": [
    {
     "data": {
      "text/html": [
       "<div>\n",
       "<style scoped>\n",
       "    .dataframe tbody tr th:only-of-type {\n",
       "        vertical-align: middle;\n",
       "    }\n",
       "\n",
       "    .dataframe tbody tr th {\n",
       "        vertical-align: top;\n",
       "    }\n",
       "\n",
       "    .dataframe thead th {\n",
       "        text-align: right;\n",
       "    }\n",
       "</style>\n",
       "<table border=\"1\" class=\"dataframe\">\n",
       "  <thead>\n",
       "    <tr style=\"text-align: right;\">\n",
       "      <th></th>\n",
       "      <th>ReleaseYear</th>\n",
       "      <th>Rating</th>\n",
       "      <th>Votes</th>\n",
       "      <th>RevenueMillions</th>\n",
       "    </tr>\n",
       "  </thead>\n",
       "  <tbody>\n",
       "    <tr>\n",
       "      <th>ReleaseYear</th>\n",
       "      <td>1.000000</td>\n",
       "      <td>0.019910</td>\n",
       "      <td>-0.003148</td>\n",
       "      <td>-0.006116</td>\n",
       "    </tr>\n",
       "    <tr>\n",
       "      <th>Rating</th>\n",
       "      <td>0.019910</td>\n",
       "      <td>1.000000</td>\n",
       "      <td>-0.007380</td>\n",
       "      <td>-0.001153</td>\n",
       "    </tr>\n",
       "    <tr>\n",
       "      <th>Votes</th>\n",
       "      <td>-0.003148</td>\n",
       "      <td>-0.007380</td>\n",
       "      <td>1.000000</td>\n",
       "      <td>-0.002726</td>\n",
       "    </tr>\n",
       "    <tr>\n",
       "      <th>RevenueMillions</th>\n",
       "      <td>-0.006116</td>\n",
       "      <td>-0.001153</td>\n",
       "      <td>-0.002726</td>\n",
       "      <td>1.000000</td>\n",
       "    </tr>\n",
       "  </tbody>\n",
       "</table>\n",
       "</div>"
      ],
      "text/plain": [
       "                 ReleaseYear    Rating     Votes  RevenueMillions\n",
       "ReleaseYear         1.000000  0.019910 -0.003148        -0.006116\n",
       "Rating              0.019910  1.000000 -0.007380        -0.001153\n",
       "Votes              -0.003148 -0.007380  1.000000        -0.002726\n",
       "RevenueMillions    -0.006116 -0.001153 -0.002726         1.000000"
      ]
     },
     "execution_count": 30,
     "metadata": {},
     "output_type": "execute_result"
    }
   ],
   "source": [
    "df.corr(numeric_only=True)"
   ]
  },
  {
   "cell_type": "markdown",
   "metadata": {},
   "source": [
    "#### <a id='toc1_3_1_6_'></a>[Handle Outliers](#toc0_)"
   ]
  },
  {
   "cell_type": "code",
   "execution_count": 31,
   "id": "1fbb5015",
   "metadata": {},
   "outputs": [
    {
     "data": {
      "text/plain": [
       "<Axes: ylabel='Rating'>"
      ]
     },
     "execution_count": 31,
     "metadata": {},
     "output_type": "execute_result"
    },
    {
     "data": {
      "image/png": "[encoded data removed]",
      "text/plain": [
       "<Figure size 640x480 with 1 Axes>"
      ]
     },
     "metadata": {},
     "output_type": "display_data"
    }
   ],
   "source": [
    "sns.boxplot(df['Rating'])"
   ]
  },
  {
   "cell_type": "code",
   "execution_count": 32,
   "id": "db8b5ddb",
   "metadata": {},
   "outputs": [
    {
     "data": {
      "text/plain": [
       "<Axes: ylabel='ReleaseYear'>"
      ]
     },
     "execution_count": 32,
     "metadata": {},
     "output_type": "execute_result"
    },
    {
     "data": {
      "image/png": "[encoded data removed]",
      "text/plain": [
       "<Figure size 640x480 with 1 Axes>"
      ]
     },
     "metadata": {},
     "output_type": "display_data"
    }
   ],
   "source": [
    "sns.boxplot(df['ReleaseYear'])"
   ]
  },
  {
   "cell_type": "code",
   "execution_count": 33,
   "id": "9484090e",
   "metadata": {},
   "outputs": [
    {
     "data": {
      "text/plain": [
       "<Axes: ylabel='Votes'>"
      ]
     },
     "execution_count": 33,
     "metadata": {},
     "output_type": "execute_result"
    },
    {
     "data": {
      "image/png": "[encoded data removed]",
      "text/plain": [
       "<Figure size 640x480 with 1 Axes>"
      ]
     },
     "metadata": {},
     "output_type": "display_data"
    }
   ],
   "source": [
    "sns.boxplot(df['Votes'])"
   ]
  },
  {
   "cell_type": "code",
   "execution_count": null,
   "id": "226a79b5",
   "metadata": {},
   "outputs": [
    {
     "data": {
      "text/plain": [
       "<Axes: ylabel='RevenueMillions'>"
      ]
     },
     "execution_count": 34,
     "metadata": {},
     "output_type": "execute_result"
    },
    {
     "data": {
      "image/png": "[encoded data removed]",
      "text/plain": [
       "<Figure size 640x480 with 1 Axes>"
      ]
     },
     "metadata": {},
     "output_type": "display_data"
    }
   ],
   "source": [
    "sns.boxplot(df['RevenueMillions'])"
   ]
  },
  {
   "cell_type": "markdown",
   "metadata": {},
   "source": [
    "#### <a id='toc1_3_1_7_'></a>[Remove Outliers in df['Rating']](#toc0_)"
   ]
  },
  {
   "cell_type": "code",
   "execution_count": 35,
   "id": "a8a9a268",
   "metadata": {},
   "outputs": [
    {
     "data": {
      "text/plain": [
       "(12.4, 1.2)"
      ]
     },
     "execution_count": 35,
     "metadata": {},
     "output_type": "execute_result"
    }
   ],
   "source": [
    "df[\"Rating\"].max(), df[\"Rating\"].min()"
   ]
  },
  {
   "cell_type": "code",
   "execution_count": 36,
   "id": "0fc47987",
   "metadata": {},
   "outputs": [
    {
     "name": "stdout",
     "output_type": "stream",
     "text": [
      "2.5 10.5\n"
     ]
    },
    {
     "data": {
      "text/html": [
       "<div>\n",
       "<style scoped>\n",
       "    .dataframe tbody tr th:only-of-type {\n",
       "        vertical-align: middle;\n",
       "    }\n",
       "\n",
       "    .dataframe tbody tr th {\n",
       "        vertical-align: top;\n",
       "    }\n",
       "\n",
       "    .dataframe thead th {\n",
       "        text-align: right;\n",
       "    }\n",
       "</style>\n",
       "<table border=\"1\" class=\"dataframe\">\n",
       "  <thead>\n",
       "    <tr style=\"text-align: right;\">\n",
       "      <th></th>\n",
       "      <th>Title</th>\n",
       "      <th>Genre</th>\n",
       "      <th>ReleaseYear</th>\n",
       "      <th>Rating</th>\n",
       "      <th>Votes</th>\n",
       "      <th>RevenueMillions</th>\n",
       "    </tr>\n",
       "  </thead>\n",
       "  <tbody>\n",
       "    <tr>\n",
       "      <th>0</th>\n",
       "      <td>Movie 0</td>\n",
       "      <td>Comedy</td>\n",
       "      <td>2011</td>\n",
       "      <td>6.6</td>\n",
       "      <td>86411</td>\n",
       "      <td>12.23</td>\n",
       "    </tr>\n",
       "    <tr>\n",
       "      <th>1</th>\n",
       "      <td>Movie 1</td>\n",
       "      <td>Drama</td>\n",
       "      <td>2014</td>\n",
       "      <td>5.2</td>\n",
       "      <td>3226</td>\n",
       "      <td>9.24</td>\n",
       "    </tr>\n",
       "    <tr>\n",
       "      <th>2</th>\n",
       "      <td>Movie 2</td>\n",
       "      <td>Action</td>\n",
       "      <td>2021</td>\n",
       "      <td>5.1</td>\n",
       "      <td>553</td>\n",
       "      <td>54.98</td>\n",
       "    </tr>\n",
       "    <tr>\n",
       "      <th>3</th>\n",
       "      <td>Movie 3</td>\n",
       "      <td>Horror</td>\n",
       "      <td>2012</td>\n",
       "      <td>7.5</td>\n",
       "      <td>30604</td>\n",
       "      <td>265.24</td>\n",
       "    </tr>\n",
       "    <tr>\n",
       "      <th>4</th>\n",
       "      <td>Movie 4</td>\n",
       "      <td>Drama</td>\n",
       "      <td>2004</td>\n",
       "      <td>6.5</td>\n",
       "      <td>60463</td>\n",
       "      <td>228.71</td>\n",
       "    </tr>\n",
       "  </tbody>\n",
       "</table>\n",
       "</div>"
      ],
      "text/plain": [
       "     Title   Genre  ReleaseYear  Rating  Votes  RevenueMillions\n",
       "0  Movie 0  Comedy         2011     6.6  86411            12.23\n",
       "1  Movie 1   Drama         2014     5.2   3226             9.24\n",
       "2  Movie 2  Action         2021     5.1    553            54.98\n",
       "3  Movie 3  Horror         2012     7.5  30604           265.24\n",
       "4  Movie 4   Drama         2004     6.5  60463           228.71"
      ]
     },
     "execution_count": 36,
     "metadata": {},
     "output_type": "execute_result"
    }
   ],
   "source": [
    "Q1 = df['Rating'].quantile(0.25)\n",
    "Q3 = df['Rating'].quantile(0.75)\n",
    "\n",
    "IQR = Q3 - Q1\n",
    "\n",
    "lower_bound = Q1 - 1.5 * IQR\n",
    "upper_bound = Q3 + 1.5 * IQR\n",
    "print(lower_bound,upper_bound)\n",
    "\n",
    "df_cleaned = df[(df['Rating'] >= lower_bound) & (df['Rating'] <= upper_bound)]\n",
    "df_cleaned.head()"
   ]
  },
  {
   "cell_type": "code",
   "execution_count": 37,
   "id": "089126ca",
   "metadata": {},
   "outputs": [
    {
     "data": {
      "text/plain": [
       "(9920, 6)"
      ]
     },
     "execution_count": 37,
     "metadata": {},
     "output_type": "execute_result"
    }
   ],
   "source": [
    "df_cleaned.shape"
   ]
  },
  {
   "cell_type": "code",
   "execution_count": 27,
   "id": "882fa1a2",
   "metadata": {},
   "outputs": [
    {
     "data": {
      "text/plain": [
       "<Axes: ylabel='Rating'>"
      ]
     },
     "execution_count": 27,
     "metadata": {},
     "output_type": "execute_result"
    },
    {
     "data": {
      "image/png": "[encoded data removed]",
      "text/plain": [
       "<Figure size 640x480 with 1 Axes>"
      ]
     },
     "metadata": {},
     "output_type": "display_data"
    }
   ],
   "source": [
    "sns.boxplot(df_cleaned['Rating'])"
   ]
  },
  {
   "cell_type": "code",
   "execution_count": null,
   "id": "18331335",
   "metadata": {},
   "outputs": [
    {
     "data": {
      "text/plain": [
       "Genre\n",
       "Drama     2540\n",
       "Comedy    2513\n",
       "Action    2441\n",
       "Horror    2426\n",
       "Name: count, dtype: int64"
      ]
     },
     "execution_count": 38,
     "metadata": {},
     "output_type": "execute_result"
    }
   ],
   "source": [
    "df_cleaned[\"Genre\"].value_counts()"
   ]
  },
  {
   "cell_type": "markdown",
   "metadata": {},
   "source": [
    "## <a id='toc1_4_'></a>[Step-04 Create Connection and Table](#toc0_)"
   ]
  },
  {
   "cell_type": "code",
   "execution_count": 40,
   "id": "5d1fba0c",
   "metadata": {},
   "outputs": [],
   "source": [
    "conn = sqlite3.connect(\"imdb.db\")\n",
    "df.to_sql(\"movies\", conn, if_exists=\"replace\", index=False)\n",
    "conn.close()"
   ]
  },
  {
   "cell_type": "code",
   "execution_count": null,
   "id": "810cc5fb",
   "metadata": {},
   "outputs": [],
   "source": [
    "# Step 2: Connect to SQLite\n",
    "conn = sqlite3.connect(\"imdb.db\")\n",
    "#Test read\n",
    "df_sql = pd.read_sql(\"SELECT * FROM movies\", conn)"
   ]
  },
  {
   "cell_type": "markdown",
   "metadata": {},
   "source": [
    "#### <a id='toc1_4_1_1_'></a>[SQL Schema Design](#toc0_)"
   ]
  },
  {
   "cell_type": "code",
   "execution_count": null,
   "id": "d61deabf",
   "metadata": {},
   "outputs": [
    {
     "data": {
      "text/html": [
       "<div>\n",
       "<style scoped>\n",
       "    .dataframe tbody tr th:only-of-type {\n",
       "        vertical-align: middle;\n",
       "    }\n",
       "\n",
       "    .dataframe tbody tr th {\n",
       "        vertical-align: top;\n",
       "    }\n",
       "\n",
       "    .dataframe thead th {\n",
       "        text-align: right;\n",
       "    }\n",
       "</style>\n",
       "<table border=\"1\" class=\"dataframe\">\n",
       "  <thead>\n",
       "    <tr style=\"text-align: right;\">\n",
       "      <th></th>\n",
       "      <th>Title</th>\n",
       "      <th>Genre</th>\n",
       "      <th>ReleaseYear</th>\n",
       "      <th>Rating</th>\n",
       "      <th>Votes</th>\n",
       "      <th>RevenueMillions</th>\n",
       "    </tr>\n",
       "  </thead>\n",
       "  <tbody>\n",
       "    <tr>\n",
       "      <th>0</th>\n",
       "      <td>Movie 0</td>\n",
       "      <td>Comedy</td>\n",
       "      <td>2011</td>\n",
       "      <td>6.6</td>\n",
       "      <td>86411</td>\n",
       "      <td>12.23</td>\n",
       "    </tr>\n",
       "    <tr>\n",
       "      <th>1</th>\n",
       "      <td>Movie 1</td>\n",
       "      <td>Drama</td>\n",
       "      <td>2014</td>\n",
       "      <td>5.2</td>\n",
       "      <td>3226</td>\n",
       "      <td>9.24</td>\n",
       "    </tr>\n",
       "    <tr>\n",
       "      <th>2</th>\n",
       "      <td>Movie 2</td>\n",
       "      <td>Action</td>\n",
       "      <td>2021</td>\n",
       "      <td>5.1</td>\n",
       "      <td>553</td>\n",
       "      <td>54.98</td>\n",
       "    </tr>\n",
       "    <tr>\n",
       "      <th>3</th>\n",
       "      <td>Movie 3</td>\n",
       "      <td>Horror</td>\n",
       "      <td>2012</td>\n",
       "      <td>7.5</td>\n",
       "      <td>30604</td>\n",
       "      <td>265.24</td>\n",
       "    </tr>\n",
       "    <tr>\n",
       "      <th>4</th>\n",
       "      <td>Movie 4</td>\n",
       "      <td>Drama</td>\n",
       "      <td>2004</td>\n",
       "      <td>6.5</td>\n",
       "      <td>60463</td>\n",
       "      <td>228.71</td>\n",
       "    </tr>\n",
       "  </tbody>\n",
       "</table>\n",
       "</div>"
      ],
      "text/plain": [
       "     Title   Genre  ReleaseYear  Rating  Votes  RevenueMillions\n",
       "0  Movie 0  Comedy         2011     6.6  86411            12.23\n",
       "1  Movie 1   Drama         2014     5.2   3226             9.24\n",
       "2  Movie 2  Action         2021     5.1    553            54.98\n",
       "3  Movie 3  Horror         2012     7.5  30604           265.24\n",
       "4  Movie 4   Drama         2004     6.5  60463           228.71"
      ]
     },
     "execution_count": 56,
     "metadata": {},
     "output_type": "execute_result"
    }
   ],
   "source": [
    "cursor = conn.cursor()\n",
    "cursor.execute(\"\"\"\n",
    "INSERT INTO movies (Title, Genre, ReleaseYear, Rating, Votes, RevenueMillions)\n",
    "VALUES \n",
    "('Movie 0', 'Comedy', 2011, 6.6, 86411, 12.23),\n",
    "('Movie 1', 'Drama', 2014, 5.2, 3226, 9.24),\n",
    "('Movie 2', 'Action', 2021, 5.1, 553, 54.98),\n",
    "('Movie 3', 'Horror', 2012, 7.5, 30604, 265.24),\n",
    "('Movie 4', 'Drama', 2004, 6.5, 60463, 228.71)\n",
    "\"\"\")\n",
    "\n",
    "df_sql = pd.read_sql(\"SELECT * FROM movies\", conn)\n",
    "df_sql.head()"
   ]
  },
  {
   "cell_type": "markdown",
   "metadata": {},
   "source": [
    "#### <a id='toc1_4_1_2_'></a>[SQL Schema Population](#toc0_)\n",
    "There are two ways:\n",
    "- Manual using Insert\n",
    "- Populate from DataFrame:"
   ]
  },
  {
   "cell_type": "code",
   "execution_count": null,
   "id": "b83ee25b",
   "metadata": {},
   "outputs": [],
   "source": [
    "# Option 1: Manual using INSERT Query\n",
    "cursor.execute(\"\"\"\n",
    "INSERT INTO movies (Title, Genre, ReleaseYear, Rating, Votes, RevenueMillions)\n",
    "VALUES ('Movie 0', 'Comedy', 2011, 6.6, 86411, 12.23)\n",
    "\"\"\")"
   ]
  },
  {
   "cell_type": "code",
   "execution_count": 54,
   "id": "5e1357de",
   "metadata": {},
   "outputs": [
    {
     "data": {
      "text/plain": [
       "(9920, 6)"
      ]
     },
     "execution_count": 54,
     "metadata": {},
     "output_type": "execute_result"
    }
   ],
   "source": [
    "# Option 2: Populate from DataFrame\n",
    "df_cleaned.to_sql(\"movies\", conn, if_exists=\"replace\", index=False)\n",
    "df_cleaned.shape"
   ]
  },
  {
   "cell_type": "markdown",
   "id": "f0fa447e",
   "metadata": {},
   "source": [
    "* **Option 2 is even better because it populates all rows from your full DataFrame into SQLite automatically!**"
   ]
  },
  {
   "cell_type": "code",
   "execution_count": 47,
   "id": "95655a2a",
   "metadata": {},
   "outputs": [],
   "source": [
    "conn.commit()   # Save changes\n",
    "conn.close()    # Hang up the call"
   ]
  },
  {
   "cell_type": "markdown",
   "id": "fd861da5",
   "metadata": {},
   "source": [
    "<a id=\"13\"></a>\n",
    "<h1 style=\"background-color:#435420;font-family:newtimeroman;font-size:300%;text-align:center;border-radius: 15px 50px;color:#FF9900;\">Thankyou</h1>\n",
    "<figcaption style=\"text-align: center;\">\n",
    "    <strong>\n",
    "    </strong>\n",
    "</figcaption>"
   ]
  }
 ],
 "metadata": {
  "kernelspec": {
   "display_name": "base",
   "language": "python",
   "name": "python3"
  },
  "language_info": {
   "codemirror_mode": {
    "name": "ipython",
    "version": 3
   },
   "file_extension": ".py",
   "mimetype": "text/x-python",
   "name": "python",
   "nbconvert_exporter": "python",
   "pygments_lexer": "ipython3",
   "version": "3.12.9"
  }
 },
 "nbformat": 4,
 "nbformat_minor": 5
}
